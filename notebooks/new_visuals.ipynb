{
 "cells": [
  {
   "cell_type": "code",
   "execution_count": 1,
   "metadata": {},
   "outputs": [],
   "source": [
    "import matplotlib.pyplot as plt\n",
    "%matplotlib inline\n",
    "from matplotlib.colors import hsv_to_rgb\n",
    "\n",
    "from pprint import pprint\n",
    "import os\n",
    "import json\n",
    "import itertools\n",
    "\n",
    "from tqdm import tqdm\n",
    "import numpy as np\n",
    "\n",
    "from dpipe.config import get_resource_manager\n",
    "from dpipe.medim.visualize import slice3d\n",
    "from dpipe.medim.metrics import multichannel_dice_score\n",
    "from dpipe.dataset.brats import Brats2017\n",
    "from dpipe.dataset.wrappers import bbox_extraction, normalized\n",
    "\n",
    "from sklearn.metrics import confusion_matrix"
   ]
  },
  {
   "cell_type": "code",
   "execution_count": 3,
   "metadata": {},
   "outputs": [],
   "source": [
    "dataset = bbox_extraction(Brats2017('/cobrain/groups/ml_group/data/brats2017/train/'))"
   ]
  },
  {
   "cell_type": "code",
   "execution_count": 5,
   "metadata": {},
   "outputs": [],
   "source": [
    "p = dataset.ids[1]\n",
    "\n",
    "x = dataset.load_image(p)\n",
    "segm = dataset.load_segm(p)"
   ]
  },
  {
   "cell_type": "code",
   "execution_count": 6,
   "metadata": {},
   "outputs": [],
   "source": [
    "def normalize(image):\n",
    "    normalized = image - image.min()\n",
    "    return normalized / normalized.max()\n",
    "\n",
    "def hsv_gray_image(intensitive):\n",
    "    hsv = np.zeros((*intensitive.shape, 3))\n",
    "    hsv[..., 2] = normalize(intensitive)\n",
    "    return hsv\n",
    "\n",
    "def hsv_apply_color_mask(image, mask, color, color_value=None):\n",
    "    assert np.issubdtype(mask.dtype, bool)\n",
    "    image = image.copy()\n",
    "    shape = image.shape\n",
    "    \n",
    "    mask = mask.flatten()\n",
    "    image_flatten = image.reshape((-1, 3))\n",
    "    \n",
    "    image_flatten_masked = image_flatten[mask]\n",
    "    \n",
    "    image_flatten_masked[..., 0] = color\n",
    "    image_flatten_masked[..., 1] = 1\n",
    "    if color_value is not None:\n",
    "        image_flatten_masked[..., 2] = color_value\n",
    "    image_flatten[mask] = image_flatten_masked\n",
    "    \n",
    "    return image_flatten.reshape(shape)"
   ]
  },
  {
   "cell_type": "code",
   "execution_count": 7,
   "metadata": {},
   "outputs": [
    {
     "data": {
      "application/vnd.jupyter.widget-view+json": {
       "model_id": "11aa1e34601044a68184a1c06e5d891c",
       "version_major": 2,
       "version_minor": 0
      },
      "text/html": [
       "<p>Failed to display Jupyter Widget of type <code>interactive</code>.</p>\n",
       "<p>\n",
       "  If you're reading this message in Jupyter Notebook or JupyterLab, it may mean\n",
       "  that the widgets JavaScript is still loading. If this message persists, it\n",
       "  likely means that the widgets JavaScript library is either not installed or\n",
       "  not enabled. See the <a href=\"https://ipywidgets.readthedocs.io/en/stable/user_install.html\">Jupyter\n",
       "  Widgets Documentation</a> for setup instructions.\n",
       "</p>\n",
       "<p>\n",
       "  If you're reading this message in another notebook frontend (for example, a static\n",
       "  rendering on GitHub or <a href=\"https://nbviewer.jupyter.org/\">NBViewer</a>),\n",
       "  it may mean that your frontend doesn't currently support widgets.\n",
       "</p>\n"
      ],
      "text/plain": [
       "interactive(children=(IntSlider(value=0, continuous_update=False, description='idx', max=131), Output()), _dom_classes=('widget-interact',))"
      ]
     },
     "metadata": {},
     "output_type": "display_data"
    }
   ],
   "source": [
    "marked_x = []\n",
    "\n",
    "for modality in x:\n",
    "    image = hsv_gray_image(modality)\n",
    "    image = hsv_apply_color_mask(image, segm == 1, 0.0, color_value=1)\n",
    "    image = hsv_apply_color_mask(image, segm == 2, 0.33, color_value=1)\n",
    "    image = hsv_apply_color_mask(image, segm == 3, 0.66, color_value=1)\n",
    "    marked_x.append(hsv_to_rgb(image))\n",
    "\n",
    "slice3d(*x, *marked_x, axis=2, max_columns=4)"
   ]
  },
  {
   "cell_type": "code",
   "execution_count": 39,
   "metadata": {},
   "outputs": [],
   "source": [
    "experiment_path = '/home/krivov/new_exp/brats_spatial_deepmedic_els/experiment_0/'\n",
    "\n",
    "predictions_path = os.path.join(experiment_path, 'test_segm_pred_prob')\n",
    "msegm_path = os.path.join(experiment_path, 'test_msegm_pred')\n",
    "\n",
    "\n",
    "patients = [p.replace('.npy', '') for p in os.listdir(predictions_path)]"
   ]
  },
  {
   "cell_type": "code",
   "execution_count": 40,
   "metadata": {
    "scrolled": true
   },
   "outputs": [
    {
     "name": "stdout",
     "output_type": "stream",
     "text": [
      "[0.87072889866622261, 0.4482955355869348, 0.25322703113135914]\n"
     ]
    },
    {
     "data": {
      "image/png": "[encoded data removed]",
      "text/plain": [
       "<matplotlib.figure.Figure at 0x7ff14d605ac8>"
      ]
     },
     "metadata": {},
     "output_type": "display_data"
    }
   ],
   "source": [
    "p = patients[1]\n",
    "\n",
    "mscan = dataset.load_x(p)\n",
    "segm_pred = np.load(os.path.join(predictions_path, p + '.npy'))\n",
    "msegm_pred = np.load(os.path.join(msegm_path, p + '.npy'))\n",
    "\n",
    "segm_true = dataset.load_segm(p)\n",
    "msegm_true = dataset.load_msegm(p)\n",
    "\n",
    "print(multichannel_dice_score(msegm_pred, msegm_true))\n",
    "\n",
    "cm = confusion_matrix(segm_true.flatten(),\n",
    "                      np.argmax(segm_pred, axis=0).flatten())\n",
    "\n",
    "#cm[0, 0] = 0\n",
    "\n",
    "plot_confusion_matrix(cm, normalize=False, classes=np.unique(segm_true))\n",
    "\n",
    "msegm_pred[:, 0, 0, [0, -1]] = 0, 1\n",
    "msegm_true[:, 0, 0, [0, -1]] = 0, 1\n",
    "segm_pred[:, 0, 0, [0, -1]] = 0, 1"
   ]
  },
  {
   "cell_type": "code",
   "execution_count": 43,
   "metadata": {},
   "outputs": [
    {
     "data": {
      "application/vnd.jupyter.widget-view+json": {
       "model_id": "bc343bb87100430ab9396176cf734b5f",
       "version_major": 2,
       "version_minor": 0
      },
      "text/html": [
       "<p>Failed to display Jupyter Widget of type <code>interactive</code>.</p>\n",
       "<p>\n",
       "  If you're reading this message in Jupyter Notebook or JupyterLab, it may mean\n",
       "  that the widgets JavaScript is still loading. If this message persists, it\n",
       "  likely means that the widgets JavaScript library is either not installed or\n",
       "  not enabled. See the <a href=\"https://ipywidgets.readthedocs.io/en/stable/user_install.html\">Jupyter\n",
       "  Widgets Documentation</a> for setup instructions.\n",
       "</p>\n",
       "<p>\n",
       "  If you're reading this message in another notebook frontend (for example, a static\n",
       "  rendering on GitHub or <a href=\"https://nbviewer.jupyter.org/\">NBViewer</a>),\n",
       "  it may mean that your frontend doesn't currently support widgets.\n",
       "</p>\n"
      ],
      "text/plain": [
       "interactive(children=(IntSlider(value=0, continuous_update=False, description='idx', max=133), Output()), _dom_classes=('widget-interact',))"
      ]
     },
     "metadata": {},
     "output_type": "display_data"
    }
   ],
   "source": [
    "hsv = hsv_gray_image(mscan[2])\n",
    "hsv[..., 1] = msegm_pred[1]\n",
    "hsv[..., 2] = 0.5\n",
    "\n",
    "slice3d(hsv_to_rgb(hsv), axis=-2)"
   ]
  },
  {
   "cell_type": "code",
   "execution_count": 41,
   "metadata": {},
   "outputs": [
    {
     "data": {
      "application/vnd.jupyter.widget-view+json": {
       "model_id": "bc5c63a73d204e2fbe7819fe27a52c6c",
       "version_major": 2,
       "version_minor": 0
      },
      "text/html": [
       "<p>Failed to display Jupyter Widget of type <code>interactive</code>.</p>\n",
       "<p>\n",
       "  If you're reading this message in Jupyter Notebook or JupyterLab, it may mean\n",
       "  that the widgets JavaScript is still loading. If this message persists, it\n",
       "  likely means that the widgets JavaScript library is either not installed or\n",
       "  not enabled. See the <a href=\"https://ipywidgets.readthedocs.io/en/stable/user_install.html\">Jupyter\n",
       "  Widgets Documentation</a> for setup instructions.\n",
       "</p>\n",
       "<p>\n",
       "  If you're reading this message in another notebook frontend (for example, a static\n",
       "  rendering on GitHub or <a href=\"https://nbviewer.jupyter.org/\">NBViewer</a>),\n",
       "  it may mean that your frontend doesn't currently support widgets.\n",
       "</p>\n"
      ],
      "text/plain": [
       "interactive(children=(IntSlider(value=0, continuous_update=False, description='idx', max=133), Output()), _dom_classes=('widget-interact',))"
      ]
     },
     "metadata": {},
     "output_type": "display_data"
    }
   ],
   "source": [
    "slice3d(*mscan,\n",
    "        ~np.any(msegm_true, axis=0), *msegm_true,\n",
    "        ~np.any(msegm_pred, axis=0), *msegm_pred, *segm_pred, max_columns=4)"
   ]
  },
  {
   "cell_type": "code",
   "execution_count": 7,
   "metadata": {},
   "outputs": [],
   "source": [
    "slices = [slice(None)] + [slice(1, -1, 9)] * 3\n",
    "\n",
    "mscan_d = mscan[slices]\n",
    "segm_pred_d = segm_pred[slices]\n",
    "msegm_true_d = msegm_true[slices]\n",
    "msegm_pred_d = msegm_pred[slices]"
   ]
  },
  {
   "cell_type": "code",
   "execution_count": 8,
   "metadata": {},
   "outputs": [
    {
     "data": {
      "text/plain": [
       "(4, 132, 175, 139)"
      ]
     },
     "execution_count": 8,
     "metadata": {},
     "output_type": "execute_result"
    }
   ],
   "source": [
    "mscan.shape"
   ]
  },
  {
   "cell_type": "code",
   "execution_count": 9,
   "metadata": {},
   "outputs": [
    {
     "data": {
      "application/vnd.jupyter.widget-view+json": {
       "model_id": "13c3ca998285434ea369d04ba46a1fb4",
       "version_major": 2,
       "version_minor": 0
      },
      "text/html": [
       "<p>Failed to display Jupyter Widget of type <code>interactive</code>.</p>\n",
       "<p>\n",
       "  If you're reading this message in Jupyter Notebook or JupyterLab, it may mean\n",
       "  that the widgets JavaScript is still loading. If this message persists, it\n",
       "  likely means that the widgets JavaScript library is either not installed or\n",
       "  not enabled. See the <a href=\"https://ipywidgets.readthedocs.io/en/stable/user_install.html\">Jupyter\n",
       "  Widgets Documentation</a> for setup instructions.\n",
       "</p>\n",
       "<p>\n",
       "  If you're reading this message in another notebook frontend (for example, a static\n",
       "  rendering on GitHub or <a href=\"https://nbviewer.jupyter.org/\">NBViewer</a>),\n",
       "  it may mean that your frontend doesn't currently support widgets.\n",
       "</p>\n"
      ],
      "text/plain": [
       "interactive(children=(IntSlider(value=0, continuous_update=False, description='idx', max=15), Output()), _dom_classes=('widget-interact',))"
      ]
     },
     "metadata": {},
     "output_type": "display_data"
    }
   ],
   "source": [
    "slice3d(*mscan_d,\n",
    "        ~np.any(msegm_true_d, axis=0), *msegm_true_d,\n",
    "        ~np.any(msegm_pred_d, axis=0), *msegm_pred_d, *segm_pred_d, max_columns=4)"
   ]
  },
  {
   "cell_type": "code",
   "execution_count": null,
   "metadata": {},
   "outputs": [],
   "source": []
  },
  {
   "cell_type": "code",
   "execution_count": 8,
   "metadata": {},
   "outputs": [],
   "source": [
    "p = patients[0]"
   ]
  },
  {
   "cell_type": "code",
   "execution_count": 9,
   "metadata": {},
   "outputs": [
    {
     "data": {
      "text/plain": [
       "'Brats17_TCIA_167_1'"
      ]
     },
     "execution_count": 9,
     "metadata": {},
     "output_type": "execute_result"
    }
   ],
   "source": [
    "p.replace('.npy', '')"
   ]
  },
  {
   "cell_type": "code",
   "execution_count": 4,
   "metadata": {},
   "outputs": [
    {
     "data": {
      "application/vnd.jupyter.widget-view+json": {
       "model_id": "3e22670ec24443eb871168d736f37c1a",
       "version_major": 2,
       "version_minor": 0
      },
      "text/html": [
       "<p>Failed to display Jupyter Widget of type <code>interactive</code>.</p>\n",
       "<p>\n",
       "  If you're reading this message in Jupyter Notebook or JupyterLab, it may mean\n",
       "  that the widgets JavaScript is still loading. If this message persists, it\n",
       "  likely means that the widgets JavaScript library is either not installed or\n",
       "  not enabled. See the <a href=\"https://ipywidgets.readthedocs.io/en/stable/user_install.html\">Jupyter\n",
       "  Widgets Documentation</a> for setup instructions.\n",
       "</p>\n",
       "<p>\n",
       "  If you're reading this message in another notebook frontend (for example, a static\n",
       "  rendering on GitHub or <a href=\"https://nbviewer.jupyter.org/\">NBViewer</a>),\n",
       "  it may mean that your frontend doesn't currently support widgets.\n",
       "</p>\n"
      ],
      "text/plain": [
       "interactive(children=(IntSlider(value=0, continuous_update=False, description='idx', max=131), Output()), _dom_classes=('widget-interact',))"
      ]
     },
     "metadata": {},
     "output_type": "display_data"
    }
   ],
   "source": [
    "slice3d(*x, ~y.any(axis=0), *y, max_columns=4)"
   ]
  }
 ],
 "metadata": {
  "kernelspec": {
   "display_name": "Python 3",
   "language": "python",
   "name": "python3"
  },
  "language_info": {
   "codemirror_mode": {
    "name": "ipython",
    "version": 3
   },
   "file_extension": ".py",
   "mimetype": "text/x-python",
   "name": "python",
   "nbconvert_exporter": "python",
   "pygments_lexer": "ipython3",
   "version": "3.6.2"
  }
 },
 "nbformat": 4,
 "nbformat_minor": 2
}
